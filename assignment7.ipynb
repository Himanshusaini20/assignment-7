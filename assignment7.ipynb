{
 "cells": [
  {
   "cell_type": "markdown",
   "id": "90b70170-5b9d-4ff2-a742-40ca126e3130",
   "metadata": {},
   "source": [
    "### Q1 What is abstraction in OPPs? Explain with an example."
   ]
  },
  {
   "cell_type": "code",
   "execution_count": 1,
   "id": "e441baa5-02f1-4391-b825-6b973407d72e",
   "metadata": {},
   "outputs": [],
   "source": [
    "import abc\n",
    "\n",
    "class course :\n",
    "    @abc.abstractclassmethod\n",
    "    def student_details(self):\n",
    "        pass\n",
    "    @abc.abstractclassmethod\n",
    "    def student_marks(self):\n",
    "        pass\n",
    "    @abc.abstractclassmethod\n",
    "    def student_assignment(self):\n",
    "        pass"
   ]
  },
  {
   "cell_type": "code",
   "execution_count": 12,
   "id": "76f72982-2276-42db-84e1-04950e9417f1",
   "metadata": {},
   "outputs": [],
   "source": [
    "class student_detail(course):\n",
    "    def students_details(self):\n",
    "        return \"this is meth for student detail\"\n",
    "    def student_assignment(self):\n",
    "        return \"this is meth for student assignment\"\n",
    "    def student_marks(self):\n",
    "        return \"this is meth for student marks\""
   ]
  },
  {
   "cell_type": "code",
   "execution_count": 4,
   "id": "e630493b-5583-4f5a-be0a-b8044555d9f8",
   "metadata": {},
   "outputs": [],
   "source": [
    "class web_dev(course):\n",
    "    def students_details(self):\n",
    "        return \"this will return student detail for web dev\"\n",
    "    def student_assignment(self):\n",
    "        return \"this will return student assignment for web dev\"\n",
    "    def student_marks(self):\n",
    "        return \"this will return student marks for web dev\""
   ]
  },
  {
   "cell_type": "code",
   "execution_count": 7,
   "id": "c15b9f86-c075-428e-84d6-be148ab0ebdf",
   "metadata": {},
   "outputs": [
    {
     "data": {
      "text/plain": [
       "'this will return student assignment for web dev'"
      ]
     },
     "execution_count": 7,
     "metadata": {},
     "output_type": "execute_result"
    }
   ],
   "source": [
    "wd=web_dev()\n",
    "wd.student_assignment()"
   ]
  },
  {
   "cell_type": "code",
   "execution_count": 13,
   "id": "8b12d096-afd1-498b-a154-e8d549728edf",
   "metadata": {},
   "outputs": [
    {
     "data": {
      "text/plain": [
       "'this is meth for student assignment'"
      ]
     },
     "execution_count": 13,
     "metadata": {},
     "output_type": "execute_result"
    }
   ],
   "source": [
    "sd=student_detail()\n",
    "sd.student_assignment()"
   ]
  },
  {
   "cell_type": "code",
   "execution_count": 14,
   "id": "aa4bcb03-8108-4e0e-8999-5e7118656964",
   "metadata": {},
   "outputs": [
    {
     "data": {
      "text/plain": [
       "'this is meth for student detail'"
      ]
     },
     "execution_count": 14,
     "metadata": {},
     "output_type": "execute_result"
    }
   ],
   "source": [
    "sd.students_details()"
   ]
  },
  {
   "cell_type": "markdown",
   "id": "7526d44a-96ae-4bf1-886e-bf7de2bf0719",
   "metadata": {},
   "source": [
    "### Q2 Differntiante between abstraction and encapsulation. Explain with an example."
   ]
  },
  {
   "cell_type": "code",
   "execution_count": 1,
   "id": "251d6aaf-edaf-48ae-9937-75490ab29dd9",
   "metadata": {},
   "outputs": [],
   "source": [
    "import abc\n",
    "\n",
    "class course :\n",
    "    @abc.abstractclassmethod\n",
    "    def student_details(self):\n",
    "        pass\n",
    "    @abc.abstractclassmethod\n",
    "    def student_marks(self):\n",
    "        pass\n",
    "    @abc.abstractclassmethod\n",
    "    def student_assignment(self):\n",
    "        pass\n",
    "class student_detail(course):\n",
    "    def students_details(self):\n",
    "        return \"this is meth for student detail\"\n",
    "    def student_assignment(self):\n",
    "        return \"this is meth for student assignment\"\n",
    "    def student_marks(self):\n",
    "        return \"this is meth for student marks\"\n",
    "class web_dev(course):\n",
    "    def students_details(self):\n",
    "        return \"this will return student detail for web dev\"\n",
    "    def student_assignment(self):\n",
    "        return \"this will return student assignment for web dev\"\n",
    "    def student_marks(self):\n",
    "        return \"this will return student marks for web dev\""
   ]
  },
  {
   "cell_type": "code",
   "execution_count": 7,
   "id": "d480fef3-7402-4f50-920c-400df084c258",
   "metadata": {},
   "outputs": [
    {
     "data": {
      "text/plain": [
       "'this will return student marks for web dev'"
      ]
     },
     "execution_count": 7,
     "metadata": {},
     "output_type": "execute_result"
    }
   ],
   "source": [
    "wd=web_dev()\n",
    "wd.student_marks()\n"
   ]
  },
  {
   "cell_type": "code",
   "execution_count": 6,
   "id": "e23ef59e-0565-4c87-8808-837f2e7683d6",
   "metadata": {},
   "outputs": [
    {
     "data": {
      "text/plain": [
       "'this is meth for student assignment'"
      ]
     },
     "execution_count": 6,
     "metadata": {},
     "output_type": "execute_result"
    }
   ],
   "source": [
    "sd=student_detail()\n",
    "sd.student_assignment()"
   ]
  },
  {
   "cell_type": "code",
   "execution_count": 8,
   "id": "22a1aeeb-45ac-4e36-aa34-aa8720d99e3f",
   "metadata": {},
   "outputs": [],
   "source": [
    "class car:\n",
    "    def __init__(self,year,make,modle,speed):\n",
    "        self.__year=year\n",
    "        self.__make=make\n",
    "        self.__modle=modle\n",
    "        self.__speed=speed\n",
    "    def set_speed(self,speed):\n",
    "        self.__speed=0 if speed<0 else speed\n",
    "    def get_speed(self):\n",
    "        return self.__speed"
   ]
  },
  {
   "cell_type": "code",
   "execution_count": 9,
   "id": "3c81e94d-ca1e-4079-a872-ed83128cd3c5",
   "metadata": {},
   "outputs": [],
   "source": [
    "c=car(2021,'toyota','inova',12)"
   ]
  },
  {
   "cell_type": "markdown",
   "id": "7cf7b99f-958a-477c-ba35-abcb21504992",
   "metadata": {},
   "source": [
    "### Q3 What is abc module in phython? Why is it used? "
   ]
  },
  {
   "cell_type": "code",
   "execution_count": 1,
   "id": "ca02743b-bf5a-451e-a831-e95568e56ed0",
   "metadata": {},
   "outputs": [],
   "source": [
    "# The  abc module in the phython library provides the infrastructure for defining custom abstract base classes.\n",
    "# Abstract class cannot be instantiated in phython. An Abstract can be call by its subclasses."
   ]
  },
  {
   "cell_type": "markdown",
   "id": "6bf92918-3427-4c9c-beca-6feb45dda312",
   "metadata": {},
   "source": [
    "### Q4 How can we achieve data abstraction?"
   ]
  },
  {
   "cell_type": "code",
   "execution_count": 2,
   "id": "036eb5fc-1dbd-4fc1-bad2-c14abc5667d2",
   "metadata": {},
   "outputs": [
    {
     "data": {
      "text/plain": [
       "' Data absstraction is a method where essential elements are displayed to the user and trivial elements are kept hidden. \\nIn java, abstraction is achieved by using the abstract keyword for classes and interfaces. In abstract classes,we can have \\nabstract method as well as concrete methods.'"
      ]
     },
     "execution_count": 2,
     "metadata": {},
     "output_type": "execute_result"
    }
   ],
   "source": [
    "\"\"\" Data absstraction is a method where essential elements are displayed to the user and trivial elements are kept hidden. \n",
    "In java, abstraction is achieved by using the abstract keyword for classes and interfaces. In abstract classes,we can have \n",
    "abstract method as well as concrete methods.\"\"\""
   ]
  },
  {
   "cell_type": "markdown",
   "id": "2dba947f-4d93-4097-8a80-40950a75b5ca",
   "metadata": {},
   "source": [
    "### Q5 We can create an instance of an abstract class? Explain your answer."
   ]
  },
  {
   "cell_type": "code",
   "execution_count": 3,
   "id": "ab6a7229-d81f-42fd-9687-57d63cd588bd",
   "metadata": {},
   "outputs": [
    {
     "data": {
      "text/plain": [
       "'Abstract classes cannot be instantiated, but they can be subclassed. When an abstract class is subclass usually provides \\nimplementation for all of the abstract methods in its parent class. However,if it dose not, then the subclass must also be \\ndeclared abstract. '"
      ]
     },
     "execution_count": 3,
     "metadata": {},
     "output_type": "execute_result"
    }
   ],
   "source": [
    "\"\"\"Abstract classes cannot be instantiated, but they can be subclassed. When an abstract class is subclass usually provides \n",
    "implementation for all of the abstract methods in its parent class. However,if it dose not, then the subclass must also be \n",
    "declared abstract. \"\"\""
   ]
  },
  {
   "cell_type": "code",
   "execution_count": null,
   "id": "ec678643-3dff-44f3-924c-ae079bd60974",
   "metadata": {},
   "outputs": [],
   "source": []
  }
 ],
 "metadata": {
  "kernelspec": {
   "display_name": "Python 3 (ipykernel)",
   "language": "python",
   "name": "python3"
  },
  "language_info": {
   "codemirror_mode": {
    "name": "ipython",
    "version": 3
   },
   "file_extension": ".py",
   "mimetype": "text/x-python",
   "name": "python",
   "nbconvert_exporter": "python",
   "pygments_lexer": "ipython3",
   "version": "3.10.8"
  }
 },
 "nbformat": 4,
 "nbformat_minor": 5
}
